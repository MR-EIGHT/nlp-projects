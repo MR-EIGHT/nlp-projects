{
 "cells": [
  {
   "cell_type": "markdown",
   "id": "15fbf8be",
   "metadata": {},
   "source": [
    "## Text in python"
   ]
  },
  {
   "cell_type": "code",
   "execution_count": 2,
   "id": "d2dff2d3",
   "metadata": {},
   "outputs": [
    {
     "name": "stdout",
     "output_type": "stream",
     "text": [
      "         1                              2 ---------3\n",
      "         4                              5 ---------6\n"
     ]
    }
   ],
   "source": [
    "library = [(1,2,3),(4,5,6)]\n",
    "for author,topic,pages in library:\n",
    "    print(f\"{author:{10}} {topic:{30}} {pages:->{10}}\")"
   ]
  },
  {
   "cell_type": "code",
   "execution_count": 4,
   "id": "e5f98b29",
   "metadata": {},
   "outputs": [],
   "source": [
    "from datetime import datetime"
   ]
  },
  {
   "cell_type": "code",
   "execution_count": 5,
   "id": "e3ea78ee",
   "metadata": {},
   "outputs": [],
   "source": [
    "today = datetime(year=2019, month=2, day=28)"
   ]
  },
  {
   "cell_type": "code",
   "execution_count": 7,
   "id": "58b46ab1",
   "metadata": {},
   "outputs": [
    {
     "name": "stdout",
     "output_type": "stream",
     "text": [
      "February 28, 2019\n"
     ]
    }
   ],
   "source": [
    "# strftime.org\n",
    "print(f\"{today:%B %d, %Y}\")"
   ]
  },
  {
   "cell_type": "code",
   "execution_count": null,
   "id": "a70db236",
   "metadata": {},
   "outputs": [],
   "source": []
  },
  {
   "cell_type": "code",
   "execution_count": 8,
   "id": "b11781e6",
   "metadata": {},
   "outputs": [
    {
     "name": "stdout",
     "output_type": "stream",
     "text": [
      "Writing test.txt\n"
     ]
    }
   ],
   "source": [
    "%%writefile test.txt\n",
    "Hello this is a test.\n",
    "this is the secondline."
   ]
  },
  {
   "cell_type": "code",
   "execution_count": 9,
   "id": "3a6f7d2c",
   "metadata": {},
   "outputs": [
    {
     "data": {
      "text/plain": [
       "'K:\\\\Projects\\\\nlp path\\\\NLP With Python Course'"
      ]
     },
     "execution_count": 9,
     "metadata": {},
     "output_type": "execute_result"
    }
   ],
   "source": [
    "pwd"
   ]
  },
  {
   "cell_type": "code",
   "execution_count": 10,
   "id": "d092a529",
   "metadata": {},
   "outputs": [],
   "source": [
    "myfile = open(\"test.txt\")"
   ]
  },
  {
   "cell_type": "code",
   "execution_count": 11,
   "id": "b68bd8b6",
   "metadata": {},
   "outputs": [
    {
     "data": {
      "text/plain": [
       "<_io.TextIOWrapper name='test.txt' mode='r' encoding='cp1252'>"
      ]
     },
     "execution_count": 11,
     "metadata": {},
     "output_type": "execute_result"
    }
   ],
   "source": [
    "myfile"
   ]
  },
  {
   "cell_type": "code",
   "execution_count": 12,
   "id": "ca309704",
   "metadata": {},
   "outputs": [
    {
     "data": {
      "text/plain": [
       "'Hello this is a test.\\nthis is the secondline.\\n'"
      ]
     },
     "execution_count": 12,
     "metadata": {},
     "output_type": "execute_result"
    }
   ],
   "source": [
    "myfile.read()"
   ]
  },
  {
   "cell_type": "code",
   "execution_count": 13,
   "id": "893d8d28",
   "metadata": {},
   "outputs": [
    {
     "data": {
      "text/plain": [
       "''"
      ]
     },
     "execution_count": 13,
     "metadata": {},
     "output_type": "execute_result"
    }
   ],
   "source": [
    "myfile.read()"
   ]
  },
  {
   "cell_type": "code",
   "execution_count": 14,
   "id": "5b22e787",
   "metadata": {},
   "outputs": [
    {
     "data": {
      "text/plain": [
       "0"
      ]
     },
     "execution_count": 14,
     "metadata": {},
     "output_type": "execute_result"
    }
   ],
   "source": [
    "myfile.seek(0)"
   ]
  },
  {
   "cell_type": "code",
   "execution_count": 15,
   "id": "5269a8b4",
   "metadata": {},
   "outputs": [
    {
     "data": {
      "text/plain": [
       "'Hello this is a test.\\nthis is the secondline.\\n'"
      ]
     },
     "execution_count": 15,
     "metadata": {},
     "output_type": "execute_result"
    }
   ],
   "source": [
    "myfile.read()"
   ]
  },
  {
   "cell_type": "code",
   "execution_count": 16,
   "id": "1ec7a785",
   "metadata": {},
   "outputs": [
    {
     "data": {
      "text/plain": [
       "0"
      ]
     },
     "execution_count": 16,
     "metadata": {},
     "output_type": "execute_result"
    }
   ],
   "source": [
    "myfile.seek(0)"
   ]
  },
  {
   "cell_type": "code",
   "execution_count": 17,
   "id": "2e4bdcbb",
   "metadata": {},
   "outputs": [],
   "source": [
    "content = myfile.read()"
   ]
  },
  {
   "cell_type": "code",
   "execution_count": 18,
   "id": "a833e272",
   "metadata": {},
   "outputs": [
    {
     "name": "stdout",
     "output_type": "stream",
     "text": [
      "Hello this is a test.\n",
      "this is the secondline.\n",
      "\n"
     ]
    }
   ],
   "source": [
    "print(content)"
   ]
  },
  {
   "cell_type": "code",
   "execution_count": 19,
   "id": "299d154f",
   "metadata": {},
   "outputs": [],
   "source": [
    "myfile.close()"
   ]
  },
  {
   "cell_type": "code",
   "execution_count": 20,
   "id": "0385d88d",
   "metadata": {},
   "outputs": [],
   "source": [
    "myfile= open('test.txt')"
   ]
  },
  {
   "cell_type": "code",
   "execution_count": 21,
   "id": "98e0105f",
   "metadata": {},
   "outputs": [],
   "source": [
    "mylines = myfile.readlines()"
   ]
  },
  {
   "cell_type": "code",
   "execution_count": 22,
   "id": "e22bfbfe",
   "metadata": {},
   "outputs": [
    {
     "data": {
      "text/plain": [
       "['Hello this is a test.\\n', 'this is the secondline.\\n']"
      ]
     },
     "execution_count": 22,
     "metadata": {},
     "output_type": "execute_result"
    }
   ],
   "source": [
    "mylines"
   ]
  },
  {
   "cell_type": "code",
   "execution_count": 24,
   "id": "6c60faa7",
   "metadata": {},
   "outputs": [
    {
     "name": "stdout",
     "output_type": "stream",
     "text": [
      "Hello\n",
      "this\n"
     ]
    }
   ],
   "source": [
    "for line in mylines:\n",
    "    print(line.split()[0])"
   ]
  },
  {
   "cell_type": "code",
   "execution_count": 25,
   "id": "4ec99210",
   "metadata": {},
   "outputs": [],
   "source": [
    "#w+ completely overrides the content in file\n",
    "myfile = open('test.txt','w+')"
   ]
  },
  {
   "cell_type": "code",
   "execution_count": 26,
   "id": "522f02d6",
   "metadata": {},
   "outputs": [
    {
     "data": {
      "text/plain": [
       "''"
      ]
     },
     "execution_count": 26,
     "metadata": {},
     "output_type": "execute_result"
    }
   ],
   "source": [
    "myfile.read()"
   ]
  },
  {
   "cell_type": "code",
   "execution_count": 27,
   "id": "41c7120b",
   "metadata": {},
   "outputs": [
    {
     "data": {
      "text/plain": [
       "17"
      ]
     },
     "execution_count": 27,
     "metadata": {},
     "output_type": "execute_result"
    }
   ],
   "source": [
    "myfile.write('my brand new text')"
   ]
  },
  {
   "cell_type": "code",
   "execution_count": 28,
   "id": "a9d7a6af",
   "metadata": {},
   "outputs": [
    {
     "data": {
      "text/plain": [
       "0"
      ]
     },
     "execution_count": 28,
     "metadata": {},
     "output_type": "execute_result"
    }
   ],
   "source": [
    "myfile.seek(0)"
   ]
  },
  {
   "cell_type": "code",
   "execution_count": 30,
   "id": "2f9b84b8",
   "metadata": {},
   "outputs": [
    {
     "data": {
      "text/plain": [
       "'my brand new text'"
      ]
     },
     "execution_count": 30,
     "metadata": {},
     "output_type": "execute_result"
    }
   ],
   "source": [
    "myfile.read()"
   ]
  },
  {
   "cell_type": "code",
   "execution_count": 31,
   "id": "8fce606f",
   "metadata": {},
   "outputs": [],
   "source": [
    "myfile.close()"
   ]
  },
  {
   "cell_type": "code",
   "execution_count": 32,
   "id": "d49bc34a",
   "metadata": {},
   "outputs": [],
   "source": [
    "# append\n",
    "myfile = open('test.txt','a+')"
   ]
  },
  {
   "cell_type": "code",
   "execution_count": 33,
   "id": "2a1b331b",
   "metadata": {},
   "outputs": [
    {
     "data": {
      "text/plain": [
       "14"
      ]
     },
     "execution_count": 33,
     "metadata": {},
     "output_type": "execute_result"
    }
   ],
   "source": [
    "myfile.write('my first in a+')"
   ]
  },
  {
   "cell_type": "code",
   "execution_count": 34,
   "id": "cfe53e8f",
   "metadata": {},
   "outputs": [],
   "source": [
    "myfile.close()"
   ]
  },
  {
   "cell_type": "code",
   "execution_count": 35,
   "id": "fb98a2bd",
   "metadata": {},
   "outputs": [],
   "source": [
    "myfile = open('test.txt')"
   ]
  },
  {
   "cell_type": "code",
   "execution_count": 36,
   "id": "0d81b9d3",
   "metadata": {},
   "outputs": [
    {
     "data": {
      "text/plain": [
       "'my brand new textmy first in a+'"
      ]
     },
     "execution_count": 36,
     "metadata": {},
     "output_type": "execute_result"
    }
   ],
   "source": [
    "myfile.read()"
   ]
  },
  {
   "cell_type": "code",
   "execution_count": 37,
   "id": "fdf36e0d",
   "metadata": {},
   "outputs": [],
   "source": [
    "# contet manager\n",
    "with open('test.txt', 'r') as myfile:\n",
    "    myvar = myfile.readlines()"
   ]
  },
  {
   "cell_type": "code",
   "execution_count": 38,
   "id": "1bbdb1c5",
   "metadata": {},
   "outputs": [
    {
     "data": {
      "text/plain": [
       "['my brand new textmy first in a+']"
      ]
     },
     "execution_count": 38,
     "metadata": {},
     "output_type": "execute_result"
    }
   ],
   "source": [
    "myvar"
   ]
  },
  {
   "cell_type": "code",
   "execution_count": null,
   "id": "a336665d",
   "metadata": {},
   "outputs": [],
   "source": []
  },
  {
   "cell_type": "markdown",
   "id": "eaa3cb8e",
   "metadata": {},
   "source": [
    "## working with pdf files"
   ]
  },
  {
   "cell_type": "code",
   "execution_count": null,
   "id": "909cdd18",
   "metadata": {},
   "outputs": [],
   "source": [
    "import PyPDF2"
   ]
  },
  {
   "cell_type": "code",
   "execution_count": null,
   "id": "59bb062e",
   "metadata": {},
   "outputs": [],
   "source": [
    "myfile = open(\"US_Declaration.pdf\", mode='rb')"
   ]
  },
  {
   "cell_type": "code",
   "execution_count": null,
   "id": "f3ac90ed",
   "metadata": {},
   "outputs": [],
   "source": [
    "pdf_reader = PyPDF2.pdfFileReader(myfile)"
   ]
  },
  {
   "cell_type": "code",
   "execution_count": null,
   "id": "076eb608",
   "metadata": {},
   "outputs": [],
   "source": [
    "pdf_reader.numPages"
   ]
  },
  {
   "cell_type": "code",
   "execution_count": null,
   "id": "b23adcc1",
   "metadata": {},
   "outputs": [],
   "source": [
    "page_one = pdf_reader.getPage(0)"
   ]
  },
  {
   "cell_type": "code",
   "execution_count": null,
   "id": "33b9a345",
   "metadata": {},
   "outputs": [],
   "source": [
    "page_one.extractText()"
   ]
  },
  {
   "cell_type": "code",
   "execution_count": null,
   "id": "501655f2",
   "metadata": {},
   "outputs": [],
   "source": [
    "print(page_one.extractText())"
   ]
  },
  {
   "cell_type": "code",
   "execution_count": null,
   "id": "ea8a2a7c",
   "metadata": {},
   "outputs": [],
   "source": [
    "mytext = page_one.extractText()"
   ]
  },
  {
   "cell_type": "code",
   "execution_count": null,
   "id": "749c27a0",
   "metadata": {},
   "outputs": [],
   "source": [
    "myfile.close()"
   ]
  },
  {
   "cell_type": "code",
   "execution_count": null,
   "id": "ba313be5",
   "metadata": {},
   "outputs": [],
   "source": [
    "# add page to pdf"
   ]
  },
  {
   "cell_type": "code",
   "execution_count": null,
   "id": "49de31f1",
   "metadata": {},
   "outputs": [],
   "source": [
    "f = open(\"US_Declaration.pdf\", mode='rb')"
   ]
  },
  {
   "cell_type": "code",
   "execution_count": null,
   "id": "81d9a52c",
   "metadata": {},
   "outputs": [],
   "source": [
    "pdf_reader = PyPDF2.pdfFileReader(f)"
   ]
  },
  {
   "cell_type": "code",
   "execution_count": null,
   "id": "db2e7e3c",
   "metadata": {},
   "outputs": [],
   "source": [
    "first_page = pdf_reader.getPage(0)"
   ]
  },
  {
   "cell_type": "code",
   "execution_count": null,
   "id": "65a16d1c",
   "metadata": {},
   "outputs": [],
   "source": [
    "pdf_writer = PyPDF2.PdfFileWriter()"
   ]
  },
  {
   "cell_type": "code",
   "execution_count": null,
   "id": "c0ebbc7c",
   "metadata": {},
   "outputs": [],
   "source": [
    "pdf_writer.addPage(firstpage)"
   ]
  },
  {
   "cell_type": "code",
   "execution_count": null,
   "id": "8c0375bf",
   "metadata": {},
   "outputs": [],
   "source": [
    "pdf_output = open('my brand new.pdf', 'wb')"
   ]
  },
  {
   "cell_type": "code",
   "execution_count": null,
   "id": "67cb2cb2",
   "metadata": {},
   "outputs": [],
   "source": [
    "pdf_writer.write(pdf_output)"
   ]
  },
  {
   "cell_type": "code",
   "execution_count": null,
   "id": "e7b0d36a",
   "metadata": {},
   "outputs": [],
   "source": [
    "pdf_output.close()"
   ]
  },
  {
   "cell_type": "code",
   "execution_count": null,
   "id": "d6239c20",
   "metadata": {},
   "outputs": [],
   "source": [
    "f.close()"
   ]
  },
  {
   "cell_type": "code",
   "execution_count": null,
   "id": "4ae605ee",
   "metadata": {},
   "outputs": [],
   "source": [
    "brand_new = open('my brand new.pdf', 'rb')\n",
    "pdf_reader = PyPDF2.PdfFileReader(brand_new)"
   ]
  },
  {
   "cell_type": "code",
   "execution_count": null,
   "id": "e6accc08",
   "metadata": {},
   "outputs": [],
   "source": [
    "pdf_reader.numPages"
   ]
  },
  {
   "cell_type": "code",
   "execution_count": null,
   "id": "a51271d4",
   "metadata": {},
   "outputs": [],
   "source": [
    "f = open('my brand new.pdf', 'rb')\n",
    "pdf_text = [0]\n",
    "pdf_reader = PyPDF2.PdfFileReade(f)\n",
    "for p in range(pdf_reader.numPages):\n",
    "    page = pdf_reader.getPage(p)\n",
    "    pdf_text.append(page.extractText())\n",
    "f.close()"
   ]
  },
  {
   "cell_type": "code",
   "execution_count": null,
   "id": "0c7c40f6",
   "metadata": {},
   "outputs": [],
   "source": [
    "pdf_text"
   ]
  },
  {
   "cell_type": "code",
   "execution_count": null,
   "id": "fdbcd1a6",
   "metadata": {},
   "outputs": [],
   "source": [
    "for page in pdf_text:\n",
    "    print(page)\n",
    "    print(\"/n/n/n/n/n/n/n\")"
   ]
  },
  {
   "cell_type": "code",
   "execution_count": null,
   "id": "32ce8f2d",
   "metadata": {},
   "outputs": [],
   "source": []
  },
  {
   "cell_type": "code",
   "execution_count": null,
   "id": "22ee1ae8",
   "metadata": {},
   "outputs": [],
   "source": []
  },
  {
   "cell_type": "code",
   "execution_count": null,
   "id": "7e5de57c",
   "metadata": {},
   "outputs": [],
   "source": []
  },
  {
   "cell_type": "code",
   "execution_count": null,
   "id": "2bf9aa65",
   "metadata": {},
   "outputs": [],
   "source": []
  }
 ],
 "metadata": {
  "kernelspec": {
   "display_name": "Python 3 (ipykernel)",
   "language": "python",
   "name": "python3"
  },
  "language_info": {
   "codemirror_mode": {
    "name": "ipython",
    "version": 3
   },
   "file_extension": ".py",
   "mimetype": "text/x-python",
   "name": "python",
   "nbconvert_exporter": "python",
   "pygments_lexer": "ipython3",
   "version": "3.9.15"
  }
 },
 "nbformat": 4,
 "nbformat_minor": 5
}
